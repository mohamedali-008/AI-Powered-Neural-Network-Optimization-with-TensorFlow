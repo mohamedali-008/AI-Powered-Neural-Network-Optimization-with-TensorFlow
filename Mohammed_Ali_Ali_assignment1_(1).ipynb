{
  "cells": [
    {
      "cell_type": "code",
      "execution_count": null,
      "id": "eb91fc91",
      "metadata": {
        "id": "eb91fc91"
      },
      "outputs": [],
      "source": [
        "NAME = \"Mohammed Ali Ali EL_Naggar\""
      ]
    },
    {
      "cell_type": "markdown",
      "id": "bfe0e8c3",
      "metadata": {
        "id": "bfe0e8c3"
      },
      "source": [
        "---"
      ]
    },
    {
      "cell_type": "markdown",
      "id": "43162fb5-2bab-4236-b5cb-88e4007553df",
      "metadata": {
        "deletable": false,
        "editable": false,
        "id": "43162fb5-2bab-4236-b5cb-88e4007553df",
        "nbgrader": {
          "cell_type": "markdown",
          "checksum": "1fc236255eaa8b8e9063a156b70e6854",
          "grade": false,
          "grade_id": "cell-86e878fd0d037967",
          "locked": true,
          "schema_version": 3,
          "solution": false,
          "task": false
        },
        "tags": []
      },
      "source": [
        "# Deep Learning\n",
        "# Assignment 1: Tensorflow and Basics"
      ]
    },
    {
      "cell_type": "markdown",
      "id": "60205b10-4506-4b1a-af6e-5d485c1c9b46",
      "metadata": {
        "deletable": false,
        "editable": false,
        "id": "60205b10-4506-4b1a-af6e-5d485c1c9b46",
        "nbgrader": {
          "cell_type": "markdown",
          "checksum": "dbbfa67b4ce9471eb38b1be1411b11e3",
          "grade": false,
          "grade_id": "cell-51ad34e61201e77a",
          "locked": true,
          "schema_version": 3,
          "solution": false,
          "task": false
        },
        "tags": []
      },
      "source": [
        "**Please follow the following instructions for your answers to be graded correctly**:\n",
        "- Use tensorflow for all of the operations unless stated otherwise.\n",
        "- Do not use any loops unless stated.\n",
        "- Do not change any of the functions names.\n",
        "- Inside the functions, make sure to write your code between the comments \"# YOUR CODE STARTS HERE \" and \"# YOUR CODE ENDS HERE \". **Do not** edit any code outside these comments inside the functions.\n",
        "- You're allowed to edit the cells that don't contain function definition.\n",
        "- You will encounter some locked (read-only) empty cells. Leave those as they are, you're not allowed to edit them.\n",
        "- Before you submit your assignment, make sure everything runs as expected. First, **restart the kernel** (in the menubar, select Kernel$\\rightarrow$Restart) and then **run all cells** (in the menubar, select Cell$\\rightarrow$Run All)."
      ]
    },
    {
      "cell_type": "markdown",
      "id": "b7dbdbac-d93a-4f3c-a11a-0fbf9098e09d",
      "metadata": {
        "deletable": false,
        "editable": false,
        "id": "b7dbdbac-d93a-4f3c-a11a-0fbf9098e09d",
        "nbgrader": {
          "cell_type": "markdown",
          "checksum": "58144eff4aa0ee1f334e51dde32d4797",
          "grade": false,
          "grade_id": "cell-99ab124d32a1e654",
          "locked": true,
          "schema_version": 3,
          "solution": false,
          "task": false
        },
        "tags": []
      },
      "source": [
        "## One-Hot encoding"
      ]
    },
    {
      "cell_type": "markdown",
      "id": "86d39442-f769-4492-8ad1-e39b659a3c8e",
      "metadata": {
        "id": "86d39442-f769-4492-8ad1-e39b659a3c8e"
      },
      "source": [
        "Use tensorflow to obtain the one-hot encoding of a label, given the label and the total number of classes"
      ]
    },
    {
      "cell_type": "code",
      "execution_count": null,
      "id": "75a6ad9e-bd20-48e5-bf50-39c703d80b4b",
      "metadata": {
        "deletable": false,
        "id": "75a6ad9e-bd20-48e5-bf50-39c703d80b4b",
        "nbgrader": {
          "cell_type": "code",
          "checksum": "880b822265dbd26a413a24a831f96760",
          "grade": false,
          "grade_id": "cell-28c8a0f025c8a882",
          "locked": false,
          "schema_version": 3,
          "solution": true,
          "task": false
        },
        "tags": []
      },
      "outputs": [],
      "source": [
        "import tensorflow as tf\n",
        "\n",
        "def one_hot_vector(label, n_classes):\n",
        "    \"\"\"\n",
        "    Compute the one hot encoding for a given label\n",
        "\n",
        "    Arguments:\n",
        "        label --  (int)\n",
        "        n_classes --  (int) Number of classes that the label can take\n",
        "\n",
        "    Returns:\n",
        "         one_hot -- tf.Tensor A single-column matrix with the one hot encoding.\n",
        "    \"\"\"\n",
        "    # (approx. 1 line)\n",
        "    # Use tensorflow's tf.one_hot\n",
        "    # YOUR CODE STARTS HERE\n",
        "    one_hot = tf.one_hot(label, n_classes)\n",
        "\n",
        "    # YOUR CODE ENDS HERE\n",
        "    return one_hot"
      ]
    },
    {
      "cell_type": "code",
      "execution_count": null,
      "id": "11543ada-0887-4bf2-b867-b85df893ff03",
      "metadata": {
        "colab": {
          "base_uri": "https://localhost:8080/"
        },
        "id": "11543ada-0887-4bf2-b867-b85df893ff03",
        "outputId": "4a8f0f03-b26a-4145-e7d7-1d1eba10c12b",
        "tags": []
      },
      "outputs": [
        {
          "data": {
            "text/plain": [
              "<tf.Tensor: shape=(5,), dtype=float32, numpy=array([0., 0., 1., 0., 0.], dtype=float32)>"
            ]
          },
          "execution_count": 13,
          "metadata": {},
          "output_type": "execute_result"
        }
      ],
      "source": [
        "# make sure your function works as expected\n",
        "one_hot_vector(2, 5)"
      ]
    },
    {
      "cell_type": "code",
      "execution_count": null,
      "id": "a1f17afa-8460-44fe-a9df-8feb9c38048b",
      "metadata": {
        "deletable": false,
        "editable": false,
        "id": "a1f17afa-8460-44fe-a9df-8feb9c38048b",
        "nbgrader": {
          "cell_type": "code",
          "checksum": "7253af4ffb39e3ec8d9e4cc26dfdc206",
          "grade": true,
          "grade_id": "cell-9432b4dd14514837",
          "locked": true,
          "points": 2,
          "schema_version": 3,
          "solution": false,
          "task": false
        },
        "tags": []
      },
      "outputs": [],
      "source": []
    },
    {
      "cell_type": "markdown",
      "id": "2871cc80-3941-4460-8845-288fc9afdf37",
      "metadata": {
        "deletable": false,
        "editable": false,
        "id": "2871cc80-3941-4460-8845-288fc9afdf37",
        "nbgrader": {
          "cell_type": "markdown",
          "checksum": "e79913b4db835a726a8cbb3d721f025b",
          "grade": false,
          "grade_id": "cell-1a14236e1ff2ef90",
          "locked": true,
          "schema_version": 3,
          "solution": false,
          "task": false
        },
        "tags": []
      },
      "source": [
        "## Sigmoid and Tanh with Gradients"
      ]
    },
    {
      "cell_type": "markdown",
      "id": "f35148a3-5f3c-4234-bfcf-9bf384c583b3",
      "metadata": {
        "deletable": false,
        "editable": false,
        "id": "f35148a3-5f3c-4234-bfcf-9bf384c583b3",
        "nbgrader": {
          "cell_type": "markdown",
          "checksum": "1ed2993ff265bb1f6ce4cc96dacbbf9c",
          "grade": false,
          "grade_id": "cell-f0734f5165d074a2",
          "locked": true,
          "schema_version": 3,
          "solution": false,
          "task": false
        },
        "tags": []
      },
      "source": [
        "### Sigmoid function"
      ]
    },
    {
      "cell_type": "markdown",
      "id": "6b8b7aef-91c3-4d58-b828-58cd057d554f",
      "metadata": {
        "deletable": false,
        "editable": false,
        "id": "6b8b7aef-91c3-4d58-b828-58cd057d554f",
        "nbgrader": {
          "cell_type": "markdown",
          "checksum": "1370e25a802004bc8bd055dd4f057c48",
          "grade": false,
          "grade_id": "cell-37e96b86a206c69e",
          "locked": true,
          "schema_version": 3,
          "solution": false,
          "task": false
        },
        "tags": []
      },
      "source": [
        "Build a function that returns the sigmoid of a tensor x. Use tf.exp(x) for the exponential function.\n",
        "\n",
        "**Reminder**:\n",
        "$sigmoid(x) = \\frac{1}{1+e^{-x}}$ is sometimes also known as the logistic function. It is a non-linear function used not only in Machine Learning (Logistic Regression), but also in Deep Learning.\n"
      ]
    },
    {
      "cell_type": "code",
      "execution_count": null,
      "id": "9dbb0e11-9194-4176-beda-db648813af3c",
      "metadata": {
        "deletable": false,
        "id": "9dbb0e11-9194-4176-beda-db648813af3c",
        "nbgrader": {
          "cell_type": "code",
          "checksum": "573ce4d79473fe63a0e14cef5022c550",
          "grade": false,
          "grade_id": "cell-2437e21394d5871a",
          "locked": false,
          "schema_version": 3,
          "solution": true,
          "task": false
        },
        "tags": []
      },
      "outputs": [],
      "source": [
        "import numpy as np\n",
        "def sigmoid(x):\n",
        "    \"\"\"\n",
        "    Compute sigmoid of x.\n",
        "\n",
        "    Arguments:\n",
        "    x -- A tf.Tensor. Must be one of the following types: bfloat16, half, float32, float64, complex64, complex128.\n",
        "\n",
        "    Return:\n",
        "    s -- sigmoid(x)\n",
        "    \"\"\"\n",
        "    # (≈ 1 line of code)\n",
        "    # YOUR CODE STARTS HERE\n",
        "    s= 1/(1+tf.exp(-x))\n",
        "\n",
        "    # YOUR CODE ENDS HERE\n",
        "\n",
        "    return s"
      ]
    },
    {
      "cell_type": "code",
      "execution_count": null,
      "id": "c2f52b31-4fcf-4ac0-9524-b38153c659bb",
      "metadata": {
        "id": "c2f52b31-4fcf-4ac0-9524-b38153c659bb",
        "tags": []
      },
      "outputs": [],
      "source": [
        "# make sure your sigmoid function works as expected by comparing it to tensorflow's sigmoid\n",
        "x = tf.constant([1.0,2.0,3.0])\n",
        "assert np.allclose(sigmoid(x), tf.nn.sigmoid(x))"
      ]
    },
    {
      "cell_type": "code",
      "execution_count": null,
      "id": "985f27a6-326f-4889-a20f-f6841904be49",
      "metadata": {
        "deletable": false,
        "editable": false,
        "id": "985f27a6-326f-4889-a20f-f6841904be49",
        "nbgrader": {
          "cell_type": "code",
          "checksum": "927c6bc52ff549e80db3bf651753e49b",
          "grade": true,
          "grade_id": "cell-e1ef6f3a07df98ba",
          "locked": true,
          "points": 2,
          "schema_version": 3,
          "solution": false,
          "task": false
        },
        "tags": []
      },
      "outputs": [],
      "source": []
    },
    {
      "cell_type": "markdown",
      "id": "124b1187-583b-4b4f-b6a0-ab5fdcfa44fc",
      "metadata": {
        "deletable": false,
        "editable": false,
        "id": "124b1187-583b-4b4f-b6a0-ab5fdcfa44fc",
        "nbgrader": {
          "cell_type": "markdown",
          "checksum": "388df216408bd93dac7fb1efee801ae3",
          "grade": false,
          "grade_id": "cell-d53facb3c3c486a6",
          "locked": true,
          "schema_version": 3,
          "solution": false,
          "task": false
        },
        "tags": []
      },
      "source": [
        "### Tanh function"
      ]
    },
    {
      "cell_type": "markdown",
      "id": "c226dcf4-00d9-4f5b-be60-4983a843cf7b",
      "metadata": {
        "deletable": false,
        "editable": false,
        "id": "c226dcf4-00d9-4f5b-be60-4983a843cf7b",
        "nbgrader": {
          "cell_type": "markdown",
          "checksum": "a0a7d6a6f4a62c70d175de4943479517",
          "grade": false,
          "grade_id": "cell-b8aa0497263e0b0e",
          "locked": true,
          "schema_version": 3,
          "solution": false,
          "task": false
        },
        "tags": []
      },
      "source": [
        "Another common activation function in Deep learning is Tanh function.\\\n",
        "Build a function that returns the tanh of a tensor x. Use tf.exp(x) for the exponential function.\n",
        "\n",
        "**Reminder**:\n",
        "$tanh(x) = \\frac{e^x-e^{-x}}{e^x+e^{-x}}$"
      ]
    },
    {
      "cell_type": "code",
      "execution_count": null,
      "id": "5b515982-6e12-442c-9fca-6f9d1282e837",
      "metadata": {
        "deletable": false,
        "id": "5b515982-6e12-442c-9fca-6f9d1282e837",
        "nbgrader": {
          "cell_type": "code",
          "checksum": "733df7530d033f93d745aeaf4d63f80b",
          "grade": false,
          "grade_id": "cell-239b8b327ecb00dc",
          "locked": false,
          "schema_version": 3,
          "solution": true,
          "task": false
        },
        "tags": []
      },
      "outputs": [],
      "source": [
        "def tanh(x):\n",
        "    \"\"\"\n",
        "    Compute tanh of x.\n",
        "\n",
        "    Arguments:\n",
        "    x -- A tf.Tensor. Must be one of the following types: bfloat16, half, float32, float64, complex64, complex128.\n",
        "\n",
        "    Return:\n",
        "    t -- tanh(x)\n",
        "    \"\"\"\n",
        "    # (≈ 1 lines of code)\n",
        "    # YOUR CODE STARTS HERE\n",
        "    t = (tf.exp(x)-tf.exp(-x))/(tf.exp(x)+tf.exp(-x))\n",
        "    # YOUR CODE ENDS HERE\n",
        "\n",
        "    return t"
      ]
    },
    {
      "cell_type": "code",
      "execution_count": null,
      "id": "da609fc1-314d-4461-840d-20b7d2ee42fa",
      "metadata": {
        "id": "da609fc1-314d-4461-840d-20b7d2ee42fa",
        "tags": []
      },
      "outputs": [],
      "source": [
        "# make sure your tanh function works as expected by comparing it to tensorflow's tanh\n",
        "x = tf.constant([1.0,2.0,3.0])\n",
        "assert np.allclose(tanh(x), tf.nn.tanh(x))"
      ]
    },
    {
      "cell_type": "code",
      "execution_count": null,
      "id": "b8c469d5-767d-4ce5-8a8e-1e43ca40359a",
      "metadata": {
        "deletable": false,
        "editable": false,
        "id": "b8c469d5-767d-4ce5-8a8e-1e43ca40359a",
        "nbgrader": {
          "cell_type": "code",
          "checksum": "0cac396c865edccfa9b8a122beedebee",
          "grade": true,
          "grade_id": "cell-50bf94f3bbcf5af0",
          "locked": true,
          "points": 2,
          "schema_version": 3,
          "solution": false,
          "task": false
        },
        "tags": []
      },
      "outputs": [],
      "source": []
    },
    {
      "cell_type": "markdown",
      "id": "179d0c9e-809a-40aa-8f2f-130e64fa3279",
      "metadata": {
        "id": "179d0c9e-809a-40aa-8f2f-130e64fa3279"
      },
      "source": [
        "### Gradient function"
      ]
    },
    {
      "cell_type": "markdown",
      "id": "c9bc658e-fd28-4384-b18f-bfc25cff9141",
      "metadata": {
        "id": "c9bc658e-fd28-4384-b18f-bfc25cff9141"
      },
      "source": [
        "Write your solution in the specified space inside the following function to satisfy the specified requirements."
      ]
    },
    {
      "cell_type": "code",
      "execution_count": null,
      "id": "42b481f3-0946-4135-a495-3d61ac2e950f",
      "metadata": {
        "deletable": false,
        "id": "42b481f3-0946-4135-a495-3d61ac2e950f",
        "nbgrader": {
          "cell_type": "code",
          "checksum": "d04268d62ddc7ca0c5021e0fec6f7c7d",
          "grade": false,
          "grade_id": "cell-7082399c2f933057",
          "locked": false,
          "schema_version": 3,
          "solution": true,
          "task": false
        },
        "tags": []
      },
      "outputs": [],
      "source": [
        "import matplotlib.pyplot as plt\n",
        "\n",
        "def gradient_func(function, x, plot=False):\n",
        "    '''\n",
        "    Compute gradient of function with respect to x and plot a figure with x on the x-axis and both the function\n",
        "    and its gradient on the y-axis, if plot is True.\n",
        "\n",
        "    Arguments:\n",
        "    function -- a function that can take x as an argument\n",
        "    x -- A tf.Tensor.\n",
        "    plot -- a Boolean. If True, a figure is plotted with x on the x-axis and both the function and its gradient on the y-axis\n",
        "\n",
        "    Return:\n",
        "    grad -- function gradient with respect to x\n",
        "    '''\n",
        "    # Start by using tensorflow's GradientTape and Use GradientTape.watch to record gradients with respect to x\n",
        "    # YOUR CODE STARTS HERE\n",
        "    # use GradientTape to record opertaion on x\n",
        "    with tf.GradientTape() as tape:\n",
        "      # watch x as input varible\n",
        "      tape.watch(x)\n",
        "      # get output of function\n",
        "      y = function(x)\n",
        "\n",
        "      # compute gradient of y respect to x\n",
        "      grad = tape.gradient(y,x)\n",
        "\n",
        "      # plotting\n",
        "      if plot:\n",
        "        # convert tensor into numpy for plotting\n",
        "        x_np , y_np , grad_np = x.numpy(),y.numpy(), grad.numpy()\n",
        "\n",
        "        plt.figure(figsize=(6,5))\n",
        "        plt.plot(x_np,y_np, label= \"function\",color = \"blue\")\n",
        "        plt.plot(x_np,grad_np,label = \"gradient\",color = \"red\")\n",
        "        plt.xlabel(\"x\")\n",
        "        plt.ylabel(\"y\")\n",
        "        plt.legend()\n",
        "        plt.title(\"functions with graident\")\n",
        "        plt.show()\n",
        "\n",
        "    # YOUR CODE ENDS HERE\n",
        "    return grad"
      ]
    },
    {
      "cell_type": "code",
      "execution_count": null,
      "id": "3eb84358-1533-4dff-a701-641e186268ab",
      "metadata": {
        "colab": {
          "base_uri": "https://localhost:8080/",
          "height": 938
        },
        "id": "3eb84358-1533-4dff-a701-641e186268ab",
        "outputId": "05eba4cb-e571-4022-ad38-8a88d34a1f3c",
        "tags": []
      },
      "outputs": [
        {
          "data": {
            "image/png": "[encoded data removed]",
            "text/plain": [
              "<Figure size 600x500 with 1 Axes>"
            ]
          },
          "metadata": {},
          "output_type": "display_data"
        },
        {
          "data": {
            "text/plain": [
              "<tf.Tensor: shape=(100,), dtype=float64, numpy=\n",
              "array([4.53958077e-05, 5.55575620e-05, 6.79936937e-05, 8.32130942e-05,\n",
              "       1.01838442e-04, 1.24631609e-04, 1.52524715e-04, 1.86658091e-04,\n",
              "       2.28426653e-04, 2.79536554e-04, 3.42074339e-04, 4.18591319e-04,\n",
              "       5.12206458e-04, 6.26731702e-04, 7.66824507e-04, 9.38173215e-04,\n",
              "       1.14772200e-03, 1.40394326e-03, 1.71716676e-03, 2.09997591e-03,\n",
              "       2.56768332e-03, 3.13889855e-03, 3.83620191e-03, 4.68693782e-03,\n",
              "       5.72413978e-03, 6.98759437e-03, 8.52504404e-03, 1.03935138e-02,\n",
              "       1.26607241e-02, 1.54065171e-02, 1.87241696e-02, 2.27213903e-02,\n",
              "       2.75206964e-02, 3.32587242e-02, 4.00838615e-02, 4.81513998e-02,\n",
              "       5.76152215e-02, 6.86149280e-02, 8.12573764e-02, 9.55919842e-02,\n",
              "       1.11580066e-01, 1.29060077e-01, 1.47712989e-01, 1.67034879e-01,\n",
              "       1.86326443e-01, 2.04710159e-01, 2.21183725e-01, 2.34711795e-01,\n",
              "       2.44347497e-01, 2.49363393e-01, 2.49363393e-01, 2.44347497e-01,\n",
              "       2.34711795e-01, 2.21183725e-01, 2.04710159e-01, 1.86326443e-01,\n",
              "       1.67034879e-01, 1.47712989e-01, 1.29060077e-01, 1.11580066e-01,\n",
              "       9.55919842e-02, 8.12573764e-02, 6.86149280e-02, 5.76152215e-02,\n",
              "       4.81513998e-02, 4.00838615e-02, 3.32587242e-02, 2.75206964e-02,\n",
              "       2.27213903e-02, 1.87241696e-02, 1.54065171e-02, 1.26607241e-02,\n",
              "       1.03935138e-02, 8.52504404e-03, 6.98759437e-03, 5.72413978e-03,\n",
              "       4.68693782e-03, 3.83620191e-03, 3.13889855e-03, 2.56768332e-03,\n",
              "       2.09997591e-03, 1.71716676e-03, 1.40394326e-03, 1.14772200e-03,\n",
              "       9.38173215e-04, 7.66824507e-04, 6.26731702e-04, 5.12206458e-04,\n",
              "       4.18591319e-04, 3.42074339e-04, 2.79536554e-04, 2.28426653e-04,\n",
              "       1.86658091e-04, 1.52524715e-04, 1.24631609e-04, 1.01838442e-04,\n",
              "       8.32130942e-05, 6.79936937e-05, 5.55575620e-05, 4.53958077e-05])>"
            ]
          },
          "execution_count": 29,
          "metadata": {},
          "output_type": "execute_result"
        }
      ],
      "source": [
        "# Call your \"gradient_func\" function to see the gradient and plot the function & gradient of your sigmoid function\n",
        "x = tf.linspace(-10, 10, 100)\n",
        "gradient_func(sigmoid, x, plot=True)"
      ]
    },
    {
      "cell_type": "code",
      "execution_count": null,
      "id": "1ebd9698-a270-4d8d-9fe9-af378ad48042",
      "metadata": {
        "colab": {
          "base_uri": "https://localhost:8080/",
          "height": 938
        },
        "id": "1ebd9698-a270-4d8d-9fe9-af378ad48042",
        "outputId": "d0aef13e-509c-420a-df0d-4339f415ddbb",
        "tags": []
      },
      "outputs": [
        {
          "data": {
            "image/png": "[encoded data removed]",
            "text/plain": [
              "<Figure size 600x500 with 1 Axes>"
            ]
          },
          "metadata": {},
          "output_type": "display_data"
        },
        {
          "data": {
            "text/plain": [
              "<tf.Tensor: shape=(100,), dtype=float64, numpy=\n",
              "array([8.24461444e-09, 1.23493148e-08, 1.84975998e-08, 2.77068977e-08,\n",
              "       4.15011774e-08, 6.21631380e-08, 9.31119540e-08, 1.39469084e-07,\n",
              "       2.08905778e-07, 3.12912525e-07, 4.68700515e-07, 7.02049765e-07,\n",
              "       1.05157521e-06, 1.57511673e-06, 2.35931045e-06, 3.53392522e-06,\n",
              "       5.29333635e-06, 7.92868998e-06, 1.18760795e-05, 1.77887049e-05,\n",
              "       2.66449510e-05, 3.99102606e-05, 5.97795672e-05, 8.95403570e-05,\n",
              "       1.34116330e-04, 2.00881377e-04, 3.00878030e-04, 4.50640755e-04,\n",
              "       6.74923051e-04, 1.01077340e-03, 1.51362059e-03, 2.26634416e-03,\n",
              "       3.39276094e-03, 5.07760312e-03, 7.59594491e-03, 1.13561717e-02,\n",
              "       1.69618853e-02, 2.52992122e-02, 3.76557457e-02, 5.58731868e-02,\n",
              "       8.25220882e-02, 1.21053315e-01, 1.75810216e-01, 2.51661539e-01,\n",
              "       3.52852474e-01, 4.80597804e-01, 6.29317917e-01, 7.82769589e-01,\n",
              "       9.13515012e-01, 9.89865962e-01, 9.89865962e-01, 9.13515012e-01,\n",
              "       7.82769589e-01, 6.29317917e-01, 4.80597804e-01, 3.52852474e-01,\n",
              "       2.51661539e-01, 1.75810216e-01, 1.21053315e-01, 8.25220882e-02,\n",
              "       5.58731868e-02, 3.76557457e-02, 2.52992122e-02, 1.69618853e-02,\n",
              "       1.13561717e-02, 7.59594491e-03, 5.07760312e-03, 3.39276094e-03,\n",
              "       2.26634416e-03, 1.51362059e-03, 1.01077340e-03, 6.74923051e-04,\n",
              "       4.50640755e-04, 3.00878030e-04, 2.00881377e-04, 1.34116330e-04,\n",
              "       8.95403570e-05, 5.97795672e-05, 3.99102606e-05, 2.66449510e-05,\n",
              "       1.77887049e-05, 1.18760795e-05, 7.92868998e-06, 5.29333635e-06,\n",
              "       3.53392522e-06, 2.35931045e-06, 1.57511673e-06, 1.05157521e-06,\n",
              "       7.02049765e-07, 4.68700515e-07, 3.12912525e-07, 2.08905778e-07,\n",
              "       1.39469084e-07, 9.31119540e-08, 6.21631379e-08, 4.15011773e-08,\n",
              "       2.77068977e-08, 1.84975999e-08, 1.23493148e-08, 8.24461450e-09])>"
            ]
          },
          "execution_count": 33,
          "metadata": {},
          "output_type": "execute_result"
        }
      ],
      "source": [
        "# Call your \"gradient_func\" function to see the gradient and plot the function & gradient of your sigmoid function\n",
        "x = tf.linspace(-10, 10, 100)\n",
        "gradient_func(tanh, x, True)"
      ]
    },
    {
      "cell_type": "code",
      "execution_count": null,
      "id": "806e0a35-7495-4019-bb91-fc7d87d01b72",
      "metadata": {
        "deletable": false,
        "editable": false,
        "id": "806e0a35-7495-4019-bb91-fc7d87d01b72",
        "nbgrader": {
          "cell_type": "code",
          "checksum": "6e45a8bc54504f59d92ca154725ea9ea",
          "grade": true,
          "grade_id": "cell-1f669c70d21fbed7",
          "locked": true,
          "points": 4,
          "schema_version": 3,
          "solution": false,
          "task": false
        },
        "tags": []
      },
      "outputs": [],
      "source": []
    },
    {
      "cell_type": "markdown",
      "id": "c12198d6-7c74-45e3-ab8c-2ce42cce1789",
      "metadata": {
        "deletable": false,
        "editable": false,
        "id": "c12198d6-7c74-45e3-ab8c-2ce42cce1789",
        "nbgrader": {
          "cell_type": "markdown",
          "checksum": "da03d53340ca0cbc4a0b03d7cdb97e80",
          "grade": false,
          "grade_id": "cell-128a6a0565f49d8f",
          "locked": true,
          "schema_version": 3,
          "solution": false,
          "task": false
        },
        "tags": []
      },
      "source": [
        "## Softmax function"
      ]
    },
    {
      "cell_type": "markdown",
      "id": "78d31da1-a256-4ca9-b9e6-c655fbaf9367",
      "metadata": {
        "deletable": false,
        "editable": false,
        "id": "78d31da1-a256-4ca9-b9e6-c655fbaf9367",
        "nbgrader": {
          "cell_type": "markdown",
          "checksum": "b981b1b7e7b2752d2dd527d6f69de8c1",
          "grade": false,
          "grade_id": "cell-eb63a2277d99b4c4",
          "locked": true,
          "schema_version": 3,
          "solution": false,
          "task": false
        },
        "tags": []
      },
      "source": [
        "Implement a softmax function using tensorflow. You can think of softmax as a normalizing function (makes the sum of features of a sample to equal 1. Used when your algorithm needs to classify two or more classes.\n",
        "\n",
        "**Instructions**:\n",
        "- $ \\text{for } x \\in \\mathbb{R}^{1\\times n} \\text{,     } softmax(x) = softmax(\\begin{bmatrix}\n",
        "    x_1  &&\n",
        "    x_2 &&\n",
        "    ...  &&\n",
        "    x_n  \n",
        "\\end{bmatrix}) = \\begin{bmatrix}\n",
        "     \\frac{e^{x_1}}{\\sum_{j}e^{x_j}}  &&\n",
        "    \\frac{e^{x_2}}{\\sum_{j}e^{x_j}}  &&\n",
        "    ...  &&\n",
        "    \\frac{e^{x_n}}{\\sum_{j}e^{x_j}}\n",
        "\\end{bmatrix} $\n",
        "\n",
        "- $\\text{for a matrix } x \\in \\mathbb{R}^{m \\times n} \\text{,  $x_{ij}$ maps to the element in the $i^{th}$ row and $j^{th}$ column of $x$, thus we have: }$  $$softmax(x) = softmax\\begin{bmatrix}\n",
        "    x_{11} & x_{12} & x_{13} & \\dots  & x_{1n} \\\\\n",
        "    x_{21} & x_{22} & x_{23} & \\dots  & x_{2n} \\\\\n",
        "    \\vdots & \\vdots & \\vdots & \\ddots & \\vdots \\\\\n",
        "    x_{m1} & x_{m2} & x_{m3} & \\dots  & x_{mn}\n",
        "\\end{bmatrix} = \\begin{bmatrix}\n",
        "    \\frac{e^{x_{11}}}{\\sum_{j}e^{x_{1j}}} & \\frac{e^{x_{12}}}{\\sum_{j}e^{x_{1j}}} & \\frac{e^{x_{13}}}{\\sum_{j}e^{x_{1j}}} & \\dots  & \\frac{e^{x_{1n}}}{\\sum_{j}e^{x_{1j}}} \\\\\n",
        "    \\frac{e^{x_{21}}}{\\sum_{j}e^{x_{2j}}} & \\frac{e^{x_{22}}}{\\sum_{j}e^{x_{2j}}} & \\frac{e^{x_{23}}}{\\sum_{j}e^{x_{2j}}} & \\dots  & \\frac{e^{x_{2n}}}{\\sum_{j}e^{x_{2j}}} \\\\\n",
        "    \\vdots & \\vdots & \\vdots & \\ddots & \\vdots \\\\\n",
        "    \\frac{e^{x_{m1}}}{\\sum_{j}e^{x_{mj}}} & \\frac{e^{x_{m2}}}{\\sum_{j}e^{x_{mj}}} & \\frac{e^{x_{m3}}}{\\sum_{j}e^{x_{mj}}} & \\dots  & \\frac{e^{x_{mn}}}{\\sum_{j}e^{x_{mj}}}\n",
        "\\end{bmatrix} = \\begin{pmatrix}\n",
        "    softmax\\text{(first row of x)}  \\\\\n",
        "    softmax\\text{(second row of x)} \\\\\n",
        "    ...  \\\\\n",
        "    softmax\\text{(last row of x)} \\\\\n",
        "\\end{pmatrix} $$\n",
        "\n",
        "**Note**\\\n",
        "Note that \"m\" is used to represent the \"number of training examples\".\n",
        "Softmax should be performed for all features of each training example, so softmax would be performed on the rows.\n",
        "\n",
        "$m$ is the number of rows and $n$ is the number of columns."
      ]
    },
    {
      "cell_type": "code",
      "execution_count": null,
      "id": "263d93d1-1993-442f-953d-247cfa279bc3",
      "metadata": {
        "deletable": false,
        "id": "263d93d1-1993-442f-953d-247cfa279bc3",
        "nbgrader": {
          "cell_type": "code",
          "checksum": "e64cc1635887b6dc8cda4f090fe90b74",
          "grade": false,
          "grade_id": "cell-76bf52a07cd36950",
          "locked": false,
          "schema_version": 3,
          "solution": true,
          "task": false
        },
        "tags": []
      },
      "outputs": [],
      "source": [
        "def softmax(x):\n",
        "    \"\"\"Calculates the softmax for each row of the input x.\n",
        "\n",
        "    Your code should work for a row vector and also for matrices of shape (m,n).\n",
        "\n",
        "    Argument:\n",
        "    x -- A tensor or numpy matrix of shape (m,n)\n",
        "\n",
        "    Returns:\n",
        "    s -- A tensor matrix equal to the softmax of x, of shape (m,n)\n",
        "    \"\"\"\n",
        "    # (≈ 3 lines of code)\n",
        "    # Apply exp() element-wise to x to get x_exp.\n",
        "    # Create a vector x_sum that sums each row of x_exp.\n",
        "    # Compute softmax(x) by dividing results of 2 previous steps.\n",
        "    # YOUR CODE STARTS HERE\n",
        "    x_exp = tf.exp(x)\n",
        "    x_sum = tf.reduce_sum(x_exp, axis=1, keepdims=True)\n",
        "    s = x_exp / x_sum\n",
        "    # YOUR CODE ENDS HERE\n",
        "    return s"
      ]
    },
    {
      "cell_type": "code",
      "execution_count": null,
      "id": "0bc1a142-2c1d-490d-97f5-07a392e16d1c",
      "metadata": {
        "colab": {
          "base_uri": "https://localhost:8080/"
        },
        "id": "0bc1a142-2c1d-490d-97f5-07a392e16d1c",
        "outputId": "bc8e2ca7-6bae-4334-b568-f90af77b4044",
        "tags": []
      },
      "outputs": [
        {
          "name": "stdout",
          "output_type": "stream",
          "text": [
            "softmax(x) = tf.Tensor(\n",
            "[[9.80897665e-01 8.94462891e-04 1.79657674e-02 1.21052389e-04\n",
            "  1.21052389e-04]\n",
            " [8.78679856e-01 1.18916387e-01 8.01252314e-04 8.01252314e-04\n",
            "  8.01252314e-04]], shape=(2, 5), dtype=float64)\n",
            "sum of each row of softmax(x) = tf.Tensor([1. 1.], shape=(2,), dtype=float64)\n"
          ]
        }
      ],
      "source": [
        "x = np.array([\n",
        "    [9, 2, 5, 0, 0],\n",
        "    [7, 5, 0, 0 ,0]], dtype=float)\n",
        "print(\"softmax(x) = \" + str(softmax(x)))\n",
        "print(\"sum of each row of softmax(x) = \" + str(tf.reduce_sum(softmax(x), axis=1)))"
      ]
    },
    {
      "cell_type": "code",
      "execution_count": null,
      "id": "ae5f9422-9db3-494e-bbb9-93680dd09171",
      "metadata": {
        "deletable": false,
        "editable": false,
        "id": "ae5f9422-9db3-494e-bbb9-93680dd09171",
        "nbgrader": {
          "cell_type": "code",
          "checksum": "1441030e64fd631a6dbe62f83aec4dd1",
          "grade": true,
          "grade_id": "cell-47d72d80550381a1",
          "locked": true,
          "points": 4,
          "schema_version": 3,
          "solution": false,
          "task": false
        },
        "tags": []
      },
      "outputs": [],
      "source": []
    },
    {
      "cell_type": "markdown",
      "id": "a33b3844-8fc2-493b-a4ce-6b988618a7dd",
      "metadata": {
        "deletable": false,
        "editable": false,
        "id": "a33b3844-8fc2-493b-a4ce-6b988618a7dd",
        "nbgrader": {
          "cell_type": "markdown",
          "checksum": "882444d89d99029b773772c44ef9e600",
          "grade": false,
          "grade_id": "cell-f00dc13d9b48e34a",
          "locked": true,
          "schema_version": 3,
          "solution": false,
          "task": false
        },
        "tags": []
      },
      "source": [
        "## Computations on Tensors\n",
        "\n",
        "A convenient way to think about and visualize computations in TensorFlow is in terms of graphs. We can define this graph in terms of Tensors, which hold data, and the mathematical operations that act on these Tensors in some order.\\\n",
        "\\\n",
        "Define a simple function in TensorFlow to construct the computations represented by the following graph:"
      ]
    },
    {
      "cell_type": "markdown",
      "id": "0daf035d-26d5-4754-a19c-a69e0424c8b1",
      "metadata": {
        "id": "0daf035d-26d5-4754-a19c-a69e0424c8b1"
      },
      "source": [
        "![fig1.png](attachment:b64a01f8-7e5f-4dd1-9173-365d23cc2631.png)\n"
      ]
    },
    {
      "cell_type": "code",
      "execution_count": null,
      "id": "cc5e83c5-fb9e-41fd-a9e0-a500e4f589bf",
      "metadata": {
        "deletable": false,
        "id": "cc5e83c5-fb9e-41fd-a9e0-a500e4f589bf",
        "nbgrader": {
          "cell_type": "code",
          "checksum": "7cc995c6e549a5f6b465a89da91d4c27",
          "grade": false,
          "grade_id": "cell-e61b059f5d55489d",
          "locked": false,
          "schema_version": 3,
          "solution": true,
          "task": false
        },
        "tags": []
      },
      "outputs": [],
      "source": [
        "def graph_operations():\n",
        "    '''\n",
        "    Define the operations for a, b, c, d and e (use tf.add, tf.subtract, tf.multiply).\n",
        "    Start by initializing the tf constants a and b as showed by the graph.\n",
        "    Your solution should look like this:\n",
        "    a = ........\n",
        "    b = ........\n",
        "    c = ........\n",
        "    d = ........\n",
        "    e = ........\n",
        "    '''\n",
        "    # (≈ 5 lines of code)\n",
        "    # YOUR CODE STARTS HERE\n",
        "    a = tf.constant(5)\n",
        "    b = tf.constant(7)\n",
        "    c = tf.add(a,b)\n",
        "    d = tf.subtract(a,b)\n",
        "    e =tf.multiply(a,b)\n",
        "\n",
        "    # YOUR CODE ENDS HERE\n",
        "    return a, b, c, d, e"
      ]
    },
    {
      "cell_type": "code",
      "execution_count": null,
      "id": "a5ed58e1-e2c2-4198-b744-b7c4183db48d",
      "metadata": {
        "colab": {
          "base_uri": "https://localhost:8080/"
        },
        "id": "a5ed58e1-e2c2-4198-b744-b7c4183db48d",
        "outputId": "88754ab2-5655-41cc-d5e6-79c4d510fa86",
        "tags": []
      },
      "outputs": [
        {
          "data": {
            "text/plain": [
              "(<tf.Tensor: shape=(), dtype=int32, numpy=5>,\n",
              " <tf.Tensor: shape=(), dtype=int32, numpy=7>,\n",
              " <tf.Tensor: shape=(), dtype=int32, numpy=12>,\n",
              " <tf.Tensor: shape=(), dtype=int32, numpy=-2>,\n",
              " <tf.Tensor: shape=(), dtype=int32, numpy=35>)"
            ]
          },
          "execution_count": 41,
          "metadata": {},
          "output_type": "execute_result"
        }
      ],
      "source": [
        "# Run this to make sure your function works as expected\n",
        "graph_operations()"
      ]
    },
    {
      "cell_type": "markdown",
      "id": "45063ac7-f388-41f4-82d2-20f91a22fa68",
      "metadata": {
        "id": "45063ac7-f388-41f4-82d2-20f91a22fa68"
      },
      "source": [
        "Notice that these tensors have no shape as each of them is a single scalar value."
      ]
    },
    {
      "cell_type": "code",
      "execution_count": null,
      "id": "99751295-4632-428d-8794-8486f15518ac",
      "metadata": {
        "deletable": false,
        "editable": false,
        "id": "99751295-4632-428d-8794-8486f15518ac",
        "nbgrader": {
          "cell_type": "code",
          "checksum": "4d678dc0b263080f368641f99f83b582",
          "grade": true,
          "grade_id": "cell-6a2cb2c678d4614a",
          "locked": true,
          "points": 3,
          "schema_version": 3,
          "solution": false,
          "task": false
        },
        "tags": []
      },
      "outputs": [],
      "source": []
    },
    {
      "cell_type": "markdown",
      "id": "bfc7cfc1-de8a-46d8-9da5-a088b12da5f7",
      "metadata": {
        "deletable": false,
        "editable": false,
        "id": "bfc7cfc1-de8a-46d8-9da5-a088b12da5f7",
        "nbgrader": {
          "cell_type": "markdown",
          "checksum": "25431ca25531b7e2365f2349c1ff367c",
          "grade": false,
          "grade_id": "cell-732d3f9251d59613",
          "locked": true,
          "schema_version": 3,
          "solution": false,
          "task": false
        },
        "tags": []
      },
      "source": [
        "## Broadcasting"
      ]
    },
    {
      "cell_type": "markdown",
      "id": "bcc26e50-fb37-4bc3-b51a-5e77769644f1",
      "metadata": {
        "deletable": false,
        "editable": false,
        "id": "bcc26e50-fb37-4bc3-b51a-5e77769644f1",
        "nbgrader": {
          "cell_type": "markdown",
          "checksum": "6d5984cbb215ebe85300ee4bead58d9b",
          "grade": false,
          "grade_id": "cell-3658a766a63b1e49",
          "locked": true,
          "schema_version": 3,
          "solution": false,
          "task": false
        },
        "tags": []
      },
      "source": [
        "Broadcasting is the process of making arrays to have compatible shapes for arithmetic operations. Two shapes are compatible if for each dimension pair they are either equal or one of them is one.\\\n",
        "When broadcasting, if a tensor has fewer axes than necessary its shape is padded on the left with ones.\\\n",
        "\\\n",
        "**Examples:**\n",
        "- shapes (1,3) and (2, 3) are broadcastable, because for the first dimension, one of them has 1, and for the second dimension they're both equal.\n",
        "- shapes (3,) and (2,3) are broadcastable, because the first tensor of shape (3,) will be broadcasted to (2,3)\n",
        "- shapes (2, 3) and (3,3) are not broadcastable"
      ]
    },
    {
      "cell_type": "code",
      "execution_count": null,
      "id": "b9b2dc2c-e697-495a-a391-c41b504fd00e",
      "metadata": {
        "deletable": false,
        "editable": false,
        "id": "b9b2dc2c-e697-495a-a391-c41b504fd00e",
        "nbgrader": {
          "cell_type": "code",
          "checksum": "65a2fe96308806b9fa0659a5be0c72c5",
          "grade": false,
          "grade_id": "cell-683d02dd27606d13",
          "locked": true,
          "schema_version": 3,
          "solution": false,
          "task": false
        },
        "tags": []
      },
      "outputs": [],
      "source": [
        "def are_broadcastable(tensor1, tensor2):\n",
        "    '''\n",
        "    This function checks whether two tensors are broadcastable for element-wise operations by comparing their\n",
        "    dimensions, starting from the last dimension. It returns True if they're broadcastable and returns\n",
        "    False otherwise.\n",
        "    '''\n",
        "    for dim1, dim2 in zip(tensor1.shape[::-1], tensor2.shape[::-1]):\n",
        "        if dim1 != dim2 and dim1 != 1 and dim2 != 1:\n",
        "            return False\n",
        "    return True"
      ]
    },
    {
      "cell_type": "code",
      "execution_count": null,
      "id": "0bf92db3-2a32-4ffa-b3e2-6116948f943d",
      "metadata": {
        "deletable": false,
        "id": "0bf92db3-2a32-4ffa-b3e2-6116948f943d",
        "nbgrader": {
          "cell_type": "code",
          "checksum": "7f7e7728d1cced8a04c96934bd6bb3f7",
          "grade": false,
          "grade_id": "cell-ae6e16ad0bc0123f",
          "locked": false,
          "schema_version": 3,
          "solution": true,
          "task": false
        },
        "tags": []
      },
      "outputs": [],
      "source": [
        "def elementwise_operation(tensor1, tensor2, operation):\n",
        "    '''\n",
        "    Compute a specified element-wise operation on two tensors. The operation can be: addition,\n",
        "    subtraction, division or multiplication.\n",
        "    Use tf.add, tf.subtract, tf.divide, tf.multiply\n",
        "\n",
        "    Before performing the operation, your function should check if both tensors are broadcastable and\n",
        "    raise a \"ValueError(\"tensor shapes are not compatible\")\" in case of non-broadcastable tensors.\n",
        "\n",
        "    If a different/incorrect operation is given, raise a \"ValueError(\"Operation not supported\")\"\n",
        "\n",
        "    Arguments:\n",
        "    tensor1 -- a tensor\n",
        "    tensor2 -- a tensor\n",
        "    operation -- \"add\", \"subtract\", \"divide\", \"multiply\"\n",
        "\n",
        "    Returns:\n",
        "    output -- the output of the operation\n",
        "    '''\n",
        "    output = None\n",
        "    # YOUR CODE STARTS HERE\n",
        "    if not are_broadcastable(tensor1, tensor2) :\n",
        "     raise  ValueError(\"tensor shapes are not compatible\")\n",
        "\n",
        "    if operation not in [\"add\", \"subtract\", \"divide\", \"multiply\"] :\n",
        "      raise ValueError(\"Operation not supported\")\n",
        "\n",
        "    if operation == \"add\"  :\n",
        "      output = tf.add(tensor1,tensor2)\n",
        "    elif operation == \"subtract\" :\n",
        "      output = tf.subtract(tensor1,tensor2)\n",
        "    elif operation == \"divide\":\n",
        "      output = tf.divide(tensor1,tensor2)\n",
        "    elif operation == \"multiply\":\n",
        "      output = tf.multiply(tensor1,tensor2)\n",
        "\n",
        "\n",
        "\n",
        "\n",
        "\n",
        "\n",
        "    # YOUR CODE ENDS HERE\n",
        "    return output"
      ]
    },
    {
      "cell_type": "code",
      "execution_count": null,
      "id": "1139e133-941c-4aae-ac1e-d48246e4c21a",
      "metadata": {
        "colab": {
          "base_uri": "https://localhost:8080/"
        },
        "id": "1139e133-941c-4aae-ac1e-d48246e4c21a",
        "outputId": "563e9682-911c-464b-e00a-37d534a89d3b",
        "tags": []
      },
      "outputs": [
        {
          "data": {
            "text/plain": [
              "<tf.Tensor: shape=(2, 2), dtype=int32, numpy=\n",
              "array([[ 6,  8],\n",
              "       [10, 12]])>"
            ]
          },
          "execution_count": 47,
          "metadata": {},
          "output_type": "execute_result"
        }
      ],
      "source": [
        "# Use this cell to test your function\n",
        "tensor1 = tf.constant([[1, 2], [3, 4]])\n",
        "tensor2 = tf.constant([[5, 6], [7, 8]])\n",
        "\n",
        "elementwise_operation(tensor1, tensor2, \"add\")"
      ]
    },
    {
      "cell_type": "code",
      "execution_count": null,
      "id": "765ffd8f-6956-48a9-88b9-d0b674203276",
      "metadata": {
        "deletable": false,
        "editable": false,
        "id": "765ffd8f-6956-48a9-88b9-d0b674203276",
        "nbgrader": {
          "cell_type": "code",
          "checksum": "08aa467725ed304a4f4de2b0456fd242",
          "grade": true,
          "grade_id": "cell-4c75f91c64530c07",
          "locked": true,
          "points": 4,
          "schema_version": 3,
          "solution": false,
          "task": false
        },
        "tags": []
      },
      "outputs": [],
      "source": []
    },
    {
      "cell_type": "markdown",
      "id": "d3cbc7a3-6aac-4641-b84a-9bdf0464342d",
      "metadata": {
        "deletable": false,
        "editable": false,
        "id": "d3cbc7a3-6aac-4641-b84a-9bdf0464342d",
        "nbgrader": {
          "cell_type": "markdown",
          "checksum": "f2c1669635c69489942bba897fcb073b",
          "grade": false,
          "grade_id": "cell-01a9c0da32daf577",
          "locked": true,
          "schema_version": 3,
          "solution": false,
          "task": false
        },
        "tags": []
      },
      "source": [
        "## Gradient Descent"
      ]
    },
    {
      "cell_type": "markdown",
      "id": "9f61bdfc-778c-48e7-9534-57c5a7f875af",
      "metadata": {
        "deletable": false,
        "editable": false,
        "id": "9f61bdfc-778c-48e7-9534-57c5a7f875af",
        "nbgrader": {
          "cell_type": "markdown",
          "checksum": "c892e07b9794a9f9aff3bb9363b716bb",
          "grade": false,
          "grade_id": "cell-d43d3a051a5507bc",
          "locked": true,
          "schema_version": 3,
          "solution": false,
          "task": false
        },
        "tags": []
      },
      "source": [
        "Implement the Mean Squared Error Loss function. Use vectorization, **Do Not** use any loops.\\\n",
        "\\\n",
        "**Reminder:**\n",
        "$$MSE = \\frac{1}{n}\\sum_{i=1}^{n}({Y_i} - {\\hat{Y_i}})^2 \\\\ n: \\text{number of data points} \\\\ Y_i: \\text{true values} \\\\ \\hat{Y_i}: \\text{predicted values}$$"
      ]
    },
    {
      "cell_type": "code",
      "execution_count": null,
      "id": "5128fe83-d829-48b1-9193-9de35105c3cd",
      "metadata": {
        "deletable": false,
        "id": "5128fe83-d829-48b1-9193-9de35105c3cd",
        "nbgrader": {
          "cell_type": "code",
          "checksum": "fb4275b3820ffc9744e060369d5b265c",
          "grade": false,
          "grade_id": "cell-ba3299f2714fe5f6",
          "locked": false,
          "schema_version": 3,
          "solution": true,
          "task": false
        },
        "tags": []
      },
      "outputs": [],
      "source": [
        "def mse_loss(pred, y):\n",
        "    \"\"\"\n",
        "    Calculates the mean squared error.\n",
        "\n",
        "    Arguments:\n",
        "    pred -- predicted labels. A tensor or array of shape (n_samples,)\n",
        "    y -- true labels. A tensor or array of shape (n_samples,)\n",
        "\n",
        "    Returns:\n",
        "    mse -- mean squared error\n",
        "    \"\"\"\n",
        "    # YOUR CODE STARTS HERE\n",
        "    squared_diff = (tf.square(tf.subtract(y,pred)))\n",
        "    mse = tf.reduce_mean(squared_diff)\n",
        "    # YOUR CODE ENDS HERE\n",
        "    return mse"
      ]
    },
    {
      "cell_type": "code",
      "execution_count": null,
      "id": "259c0df0-ed1d-41de-aff4-a36f9a76a73f",
      "metadata": {
        "colab": {
          "base_uri": "https://localhost:8080/"
        },
        "id": "259c0df0-ed1d-41de-aff4-a36f9a76a73f",
        "outputId": "22228ce7-6edd-4164-cf87-e8091d4250d5",
        "tags": []
      },
      "outputs": [
        {
          "data": {
            "text/plain": [
              "<tf.Tensor: shape=(), dtype=float32, numpy=0.086>"
            ]
          },
          "execution_count": 54,
          "metadata": {},
          "output_type": "execute_result"
        }
      ],
      "source": [
        "pred = tf.constant([.9, 0.2, 0.1, .4, .9])\n",
        "y = tf.constant([1., 0., 0., 1., 1.])\n",
        "mse_loss(pred, y)"
      ]
    },
    {
      "cell_type": "code",
      "execution_count": null,
      "id": "fd5b2c4f-c23a-4671-8689-91e700430c6d",
      "metadata": {
        "deletable": false,
        "editable": false,
        "id": "fd5b2c4f-c23a-4671-8689-91e700430c6d",
        "nbgrader": {
          "cell_type": "code",
          "checksum": "f8b90a4cf760218fb0267d13c96b4c3f",
          "grade": true,
          "grade_id": "cell-a845859f4263cb1b",
          "locked": true,
          "points": 3,
          "schema_version": 3,
          "solution": false,
          "task": false
        },
        "tags": []
      },
      "outputs": [],
      "source": []
    },
    {
      "cell_type": "markdown",
      "id": "01a031de-c4fe-4ad2-aa73-963c3fc924a1",
      "metadata": {
        "deletable": false,
        "editable": false,
        "id": "01a031de-c4fe-4ad2-aa73-963c3fc924a1",
        "nbgrader": {
          "cell_type": "markdown",
          "checksum": "f95d673c428209295c314924e372be68",
          "grade": false,
          "grade_id": "cell-c27e6a8cc8decdb3",
          "locked": true,
          "schema_version": 3,
          "solution": false,
          "task": false
        },
        "tags": []
      },
      "source": [
        "Implement gradient descent algorithm to update a single weight of a single neuron. The goal is to fit a line: y_pred = x * w through some data.\\\n",
        "1- We start with a random weight (given as an argument to our function)\\\n",
        "2- Calculate predicted value, where y_pred = x * w\\\n",
        "3- Calculate the loss (here, MSE) between predicted and true values of Y\\\n",
        "4- Calculate gradient of the loss with respect to the weight\\\n",
        "5- Update the weight using the gradient and learning rate:  weight - learning_rate * gradient\\\n",
        "6- repeat 2:5 for a given number of iterations"
      ]
    },
    {
      "cell_type": "code",
      "execution_count": null,
      "id": "84c22b0e-96fe-445c-bc5d-6a298521b636",
      "metadata": {
        "deletable": false,
        "id": "84c22b0e-96fe-445c-bc5d-6a298521b636",
        "nbgrader": {
          "cell_type": "code",
          "checksum": "0b5264141c3111bbcefe465cc73caa34",
          "grade": false,
          "grade_id": "cell-d9f76304de1d250d",
          "locked": false,
          "schema_version": 3,
          "solution": true,
          "task": false
        },
        "tags": []
      },
      "outputs": [],
      "source": [
        "def gradient_descent(weight, x, y, loss_fn, learning_rate, num_iters):\n",
        "    \"\"\"\n",
        "    Gradient Descent for a single neuron weight update.\n",
        "\n",
        "    Arguments:\n",
        "    weight     : initial random weight\n",
        "    x          : Input data (tf.Tensor of shape (n_samples,))\n",
        "    y          : True labels (tf.Tensor of shape (n_samples,))\n",
        "    loss_fn    : Loss function ('mse' for mean squared error, 'bce' for binary cross-entropy)\n",
        "    learning_rate         : Learning rate (float)\n",
        "    num_iters  : Number of iterations (int)\n",
        "\n",
        "    Returns:\n",
        "    weights_history    : List of weights at each iteration (list)\n",
        "    final_pred : Final predictions after training (tf.Tensor)\n",
        "    \"\"\"\n",
        "\n",
        "    weights_history = []\n",
        "    loss_history = []\n",
        "    weight = tf.Variable(weight, dtype=tf.float32)\n",
        "\n",
        "    # GD loop\n",
        "    for i in range(num_iters):\n",
        "        # (approx. 5 lines of code)\n",
        "        # Use GradientTape to allow tf to trace the gradients\n",
        "        # compute the loss using the loss_fn provided: loss = ...........\n",
        "        # Compute the gradient of the loss with respect to the weight: grad = ........\n",
        "        # update the weight: weight = .............\n",
        "\n",
        "        # YOUR CODE STARTS HERE\n",
        "        with tf.GradientTape() as tape:\n",
        "            #Calc predicted value\n",
        "            y_pred = x * weight\n",
        "            # Calc the loss\n",
        "            loss = mse_loss(y_pred, y)\n",
        "            grad = tape.gradient(loss, weight)\n",
        "\n",
        "        # Update weight\n",
        "            weight.assign_sub(learning_rate*grad)\n",
        "\n",
        "        # YOUR CODE ENDS HERE\n",
        "\n",
        "        weights_history.append(weight.numpy()[0])\n",
        "        loss_history.append(loss.numpy())\n",
        "\n",
        "    final_pred = x * weight\n",
        "\n",
        "    return weights_history, loss_history, final_pred.numpy()\n"
      ]
    },
    {
      "cell_type": "markdown",
      "id": "5c2f3af4-26b0-4201-9bd2-a80d7ff4f97d",
      "metadata": {
        "deletable": false,
        "editable": false,
        "id": "5c2f3af4-26b0-4201-9bd2-a80d7ff4f97d",
        "nbgrader": {
          "cell_type": "markdown",
          "checksum": "4eb41cb8ce6c318385bdc0348ead5e15",
          "grade": false,
          "grade_id": "cell-497eb1915c9f504d",
          "locked": true,
          "schema_version": 3,
          "solution": false,
          "task": false
        },
        "tags": []
      },
      "source": [
        "Run the following cell to test your gradient_descent function using random data. Notice the final fitted line vs the line fitted using the initial weight before training. Also notice the decay of the loss with iterations."
      ]
    },
    {
      "cell_type": "code",
      "execution_count": null,
      "id": "33fb30c5-3702-4158-8763-2f78a19aeeae",
      "metadata": {
        "colab": {
          "base_uri": "https://localhost:8080/",
          "height": 867
        },
        "id": "33fb30c5-3702-4158-8763-2f78a19aeeae",
        "outputId": "3c5a09d6-7d3c-43b6-fe0e-7852379d74e5",
        "tags": []
      },
      "outputs": [
        {
          "data": {
            "text/plain": [
              "Text(0, 0.5, 'Loss')"
            ]
          },
          "execution_count": 61,
          "metadata": {},
          "output_type": "execute_result"
        },
        {
          "data": {
            "image/png": "[encoded data removed]",
            "text/plain": [
              "<Figure size 1000x1000 with 2 Axes>"
            ]
          },
          "metadata": {},
          "output_type": "display_data"
        }
      ],
      "source": [
        "# Generating some random data\n",
        "n_samples = 100\n",
        "x = np.random.rand(n_samples) * 10  # Random values for X between 0 and 10\n",
        "true_weight = 2.5  # True weight (slope)\n",
        "true_bias = 5.0    # True bias (intercept)\n",
        "noise = np.random.randn(n_samples) * 2  # Gaussian noise\n",
        "y = true_weight * x + true_bias + noise\n",
        "\n",
        "# Calling the gradient_descent function\n",
        "tf.random.set_seed(5)\n",
        "initial_weight = tf.Variable(tf.random.normal([1]), dtype=tf.float32)  # a random initial weight\n",
        "learning_rate = 0.01\n",
        "num_iters = 20\n",
        "weights_history, loss_history, final_pred = gradient_descent(initial_weight, x, y, mse_loss, learning_rate=learning_rate, num_iters=num_iters)\n",
        "\n",
        "fig, axs = plt.subplots(2,1, figsize = (10,10))\n",
        "axs[0].scatter(x, y, label=\"y_true\")\n",
        "axs[0].plot(x, final_pred, label=\"y pred\")\n",
        "axs[0].plot(x, initial_weight*x, label=\"pred with initial weight\")\n",
        "axs[0].legend(loc = \"upper right\")\n",
        "axs[0].set_xlabel('x')\n",
        "axs[1].plot(range(num_iters), loss_history)\n",
        "axs[1].set_xlabel('Iteration')\n",
        "axs[1].set_ylabel('Loss')\n"
      ]
    },
    {
      "cell_type": "code",
      "execution_count": null,
      "id": "b9ffaf48-9618-4436-9cc6-6d6b4b544c65",
      "metadata": {
        "deletable": false,
        "editable": false,
        "id": "b9ffaf48-9618-4436-9cc6-6d6b4b544c65",
        "nbgrader": {
          "cell_type": "code",
          "checksum": "f86e7a2e8f02655f7e74953d522ef5ed",
          "grade": true,
          "grade_id": "cell-66310747dd82b3fe",
          "locked": true,
          "points": 6,
          "schema_version": 3,
          "solution": false,
          "task": false
        },
        "tags": []
      },
      "outputs": [],
      "source": []
    }
  ],
  "metadata": {
    "accelerator": "TPU",
    "colab": {
      "gpuType": "V28",
      "provenance": []
    },
    "kernelspec": {
      "display_name": "Python 3 (ipykernel)",
      "language": "python",
      "name": "python3"
    },
    "language_info": {
      "codemirror_mode": {
        "name": "ipython",
        "version": 3
      },
      "file_extension": ".py",
      "mimetype": "text/x-python",
      "name": "python",
      "nbconvert_exporter": "python",
      "pygments_lexer": "ipython3",
      "version": "3.12.4"
    }
  },
  "nbformat": 4,
  "nbformat_minor": 5
}